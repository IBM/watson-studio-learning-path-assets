{
 "cells": [
  {
   "cell_type": "markdown",
   "metadata": {},
   "source": [
    "# Scoring SPSS Predictive Model using Python"
   ]
  },
  {
   "cell_type": "markdown",
   "metadata": {},
   "source": [
    "This notebook should be run in a Watson Studio project, using the Python 3.6 runtime environment. If you are viewing this in Watson Studio and do not see Python 3.6 in the upper right corner of your screen, please update the runtime now. It requires service credentials for the following Cloud services:\n",
    "\n",
    "    * Watson Machine Learning"
   ]
  },
  {
   "cell_type": "markdown",
   "metadata": {},
   "source": [
    "# Package Installation"
   ]
  },
  {
   "cell_type": "code",
   "execution_count": 1,
   "metadata": {},
   "outputs": [
    {
     "name": "stdout",
     "output_type": "stream",
     "text": [
      "Requirement already satisfied, skipping upgrade: jmespath<1.0.0,>=0.7.1 in /opt/conda/envs/Python36/lib/python3.6/site-packages (from ibm-cos-sdk-core==2.*,>=2.0.0->ibm-cos-sdk->watson-machine-learning-client) (0.9.3)\r\n"
     ]
    }
   ],
   "source": [
    "!pip install --upgrade watson-machine-learning-client --no-cache | tail -n 1"
   ]
  },
  {
   "cell_type": "markdown",
   "metadata": {},
   "source": [
    "# Provision services and configure credentials"
   ]
  },
  {
   "cell_type": "markdown",
   "metadata": {},
   "source": [
    "You will need credentials for Watson Machine Learning. If you already have a WML instance, you may use the credentials from it. To provision a new Lite instance of WML, use the [IBM Cloud catalog](https://cloud.ibm.com/catalog/services/machine-learning):\n",
    "\n",
    "* Give your service a name, and click Create.\n",
    "* Once your instance is created, click the Service Credentials link on the left side of the screen.\n",
    "* Click the New credential button, give your credentials a name, and click Add.\n",
    "* Your new credentials can be accessed by clicking the View credentials button.\n",
    "* Copy and paste your WML credentials into the cell below."
   ]
  },
  {
   "cell_type": "code",
   "execution_count": 2,
   "metadata": {},
   "outputs": [],
   "source": [
    "WML_CREDENTIALS = {\n",
    "  \"apikey\": \"****\",\n",
    "  \"iam_apikey_description\": \"Auto-generated for key ****\",\n",
    "  \"iam_apikey_name\": \"wdp-writer\",\n",
    "  \"iam_role_crn\": \"crn:v1:bluemix:public:iam::::serviceRole:Writer\",\n",
    "  \"iam_serviceid_crn\": \"crn:v1:bluemix:public:iam-identity::a/bc1bd51c396536dc7d5f81d5a4e19533::serviceid:ServiceId-****\",\n",
    "  \"instance_id\": \"557ff6fc-e5b5-4d6c-bfd6-4365ca46fad3\",\n",
    "  \"url\": \"https://us-south.ml.cloud.ibm.com\",\n",
    "}"
   ]
  },
  {
   "cell_type": "markdown",
   "metadata": {},
   "source": [
    "# Run the notebook\n",
    "\n",
    "At this point, the notebook is ready to run. You can either run the cells one at a time, or click the Kernel option above and select Restart and Run All to run all the cells."
   ]
  },
  {
   "cell_type": "markdown",
   "metadata": {},
   "source": [
    "Get access to your Watson Machine Learning service client"
   ]
  },
  {
   "cell_type": "code",
   "execution_count": 3,
   "metadata": {},
   "outputs": [
    {
     "name": "stdout",
     "output_type": "stream",
     "text": [
      "1.0.371\n"
     ]
    }
   ],
   "source": [
    "from watson_machine_learning_client import WatsonMachineLearningAPIClient\n",
    "import json\n",
    "\n",
    "wml_client = WatsonMachineLearningAPIClient(WML_CREDENTIALS)\n",
    "print(wml_client.version)"
   ]
  },
  {
   "cell_type": "markdown",
   "metadata": {},
   "source": [
    "# Score the SPSS deployed model\n",
    "\n",
    "Copy and paste the \"Scoring End-point\" value generated for the deployed SPSS model web service "
   ]
  },
  {
   "cell_type": "code",
   "execution_count": 4,
   "metadata": {},
   "outputs": [],
   "source": [
    "scoring_endpoint = '****'"
   ]
  },
  {
   "cell_type": "markdown",
   "metadata": {},
   "source": [
    "Define the test data to be used for prediction. This includes the definition of the features (by name) as well as the values to be used for prediction:"
   ]
  },
  {
   "cell_type": "code",
   "execution_count": 5,
   "metadata": {},
   "outputs": [
    {
     "name": "stdout",
     "output_type": "stream",
     "text": [
      "{\n",
      "  \"fields\": [\n",
      "    \"state\",\n",
      "    \"account length\",\n",
      "    \"area code\",\n",
      "    \"phone number\",\n",
      "    \"international plan\",\n",
      "    \"voice mail plan\",\n",
      "    \"number vmail messages\",\n",
      "    \"total day minutes\",\n",
      "    \"total day calls\",\n",
      "    \"total day charge\",\n",
      "    \"total eve minutes\",\n",
      "    \"total eve calls\",\n",
      "    \"total eve charge\",\n",
      "    \"total night minutes\",\n",
      "    \"total night calls\",\n",
      "    \"total night charge\",\n",
      "    \"total intl minutes\",\n",
      "    \"total intl calls\",\n",
      "    \"total intl charge\",\n",
      "    \"customer service calls\",\n",
      "    \"churn\"\n",
      "  ],\n",
      "  \"values\": [\n",
      "    [\n",
      "      \"NY\",\n",
      "      161,\n",
      "      415,\n",
      "      \"351-7269\",\n",
      "      \"no\",\n",
      "      \"no\",\n",
      "      0,\n",
      "      332.9,\n",
      "      67,\n",
      "      56.59,\n",
      "      317.8,\n",
      "      97,\n",
      "      27.01,\n",
      "      160.6,\n",
      "      128,\n",
      "      7.23,\n",
      "      5.4,\n",
      "      9,\n",
      "      1.46,\n",
      "      4,\n",
      "      \"none\"\n",
      "    ]\n",
      "  ]\n",
      "}\n"
     ]
    }
   ],
   "source": [
    "# NOTE: manually define and pass the array(s) of values to be scored in the next line\n",
    "\n",
    "values = [\"NY\",161,415,\"351-7269\",\"no\",\"no\",0,332.9,67,56.59,317.8,97,27.01,160.6,128,7.23,5.4,9,1.46,4,\"none\"]\n",
    "fields = [\"state\", \"account length\", \"area code\", \"phone number\", \"international plan\", \"voice mail plan\", \"number vmail messages\", \"total day minutes\", \"total day calls\", \"total day charge\", \"total eve minutes\", \"total eve calls\", \"total eve charge\", \"total night minutes\", \"total night calls\", \"total night charge\", \"total intl minutes\", \"total intl calls\", \"total intl charge\", \"customer service calls\",\"churn\"]\n",
    "scoring_payload = {\"fields\": fields, \"values\": [values]}\n",
    "print(json.dumps(scoring_payload, indent=2))"
   ]
  },
  {
   "cell_type": "markdown",
   "metadata": {},
   "source": [
    "Score the model by calling the WML service with the user provided test data."
   ]
  },
  {
   "cell_type": "code",
   "execution_count": 6,
   "metadata": {},
   "outputs": [
    {
     "name": "stdout",
     "output_type": "stream",
     "text": [
      "{\n",
      "  \"fields\": [\n",
      "    \"area code_transformed\",\n",
      "    \"account length_transformed\",\n",
      "    \"number vmail messages_transformed\",\n",
      "    \"total day minutes_transformed\",\n",
      "    \"total day calls_transformed\",\n",
      "    \"total day charge_transformed\",\n",
      "    \"total eve minutes_transformed\",\n",
      "    \"total eve calls_transformed\",\n",
      "    \"total eve charge_transformed\",\n",
      "    \"total night minutes_transformed\",\n",
      "    \"total night calls_transformed\",\n",
      "    \"total night charge_transformed\",\n",
      "    \"total intl minutes_transformed\",\n",
      "    \"total intl calls_transformed\",\n",
      "    \"total intl charge_transformed\",\n",
      "    \"customer service calls_transformed\",\n",
      "    \"state_transformed\",\n",
      "    \"international plan_transformed\",\n",
      "    \"voice mail plan_transformed\",\n",
      "    \"$XF-churn\",\n",
      "    \"$XFC-churn\"\n",
      "  ],\n",
      "  \"values\": [\n",
      "    [\n",
      "      415,\n",
      "      1.5140703699647289,\n",
      "      -0.5917434986610466,\n",
      "      2.659223655670153,\n",
      "      -1.687369599158475,\n",
      "      2.659218871468219,\n",
      "      2.3218790788023145,\n",
      "      -0.1585947131784726,\n",
      "      2.3211254802291608,\n",
      "      -0.80407349283471,\n",
      "      1.434534732828199,\n",
      "      -0.8027577092971393,\n",
      "      -1.7844810215524827,\n",
      "      2.036944422613341,\n",
      "      -1.782536747384055,\n",
      "      1.9789234011856556,\n",
      "      \"48\",\n",
      "      \"1\",\n",
      "      \"1\",\n",
      "      \"True\",\n",
      "      0.6553465252554335\n",
      "    ]\n",
      "  ]\n",
      "}\n"
     ]
    }
   ],
   "source": [
    "predictions = wml_client.deployments.score(scoring_endpoint, scoring_payload)\n",
    "print(json.dumps(predictions, indent=2))"
   ]
  },
  {
   "cell_type": "code",
   "execution_count": null,
   "metadata": {},
   "outputs": [],
   "source": []
  }
 ],
 "metadata": {
  "kernelspec": {
   "display_name": "Python 3.6",
   "language": "python",
   "name": "python3"
  },
  "language_info": {
   "codemirror_mode": {
    "name": "ipython",
    "version": 3
   },
   "file_extension": ".py",
   "mimetype": "text/x-python",
   "name": "python",
   "nbconvert_exporter": "python",
   "pygments_lexer": "ipython3",
   "version": "3.6.8"
  }
 },
 "nbformat": 4,
 "nbformat_minor": 1
}
